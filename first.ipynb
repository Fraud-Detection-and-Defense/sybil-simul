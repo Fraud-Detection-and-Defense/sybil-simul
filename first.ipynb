{
 "cells": [
  {
   "attachments": {},
   "cell_type": "markdown",
   "metadata": {},
   "source": [
    "Cadcad"
   ]
  },
  {
   "cell_type": "code",
   "execution_count": 33,
   "metadata": {},
   "outputs": [],
   "source": [
    "import cadCAD\n",
    "import numpy as np\n",
    "import random"
   ]
  },
  {
   "cell_type": "code",
   "execution_count": 34,
   "metadata": {},
   "outputs": [],
   "source": [
    "max_players = 50\n",
    "min_players = 20\n",
    "max_users_per_player = 20\n",
    "min_users_per_player = 1\n",
    "max_stamps_per_user = 80\n",
    "stamp_cost_range = (0, 1000)\n",
    "player_funds = 10000\n",
    "grant_pool = 100000\n",
    "max_grants = 20\n",
    "min_grants = 5"
   ]
  },
  {
   "cell_type": "code",
   "execution_count": 35,
   "metadata": {},
   "outputs": [],
   "source": [
    "# Initialize the system\n",
    "initial_conditions = {\n",
    "    'players': [], \n",
    "    'users': [], \n",
    "    'identities': [], \n",
    "    'grants': [], \n",
    "    'player_funds': player_funds, \n",
    "    'grant_pool': grant_pool, \n",
    "    'allocated_funds': 0, \n",
    "    'matching_funds': 0,\n",
    "    'total_unique_donors': 0\n",
    "    }\n",
    "\n"
   ]
  },
  {
   "cell_type": "code",
   "execution_count": 36,
   "metadata": {},
   "outputs": [],
   "source": [
    "# Initialize the lists of players, users, and identities\n",
    "players = []\n",
    "users = []\n",
    "identities = []"
   ]
  },
  {
   "cell_type": "code",
   "execution_count": 37,
   "metadata": {},
   "outputs": [
    {
     "name": "stdout",
     "output_type": "stream",
     "text": [
      "39\n",
      "{'id': 38, 'player_funds': 10000, 'users': []}\n",
      "[]\n"
     ]
    }
   ],
   "source": [
    "# Create the players and add them to the list\n",
    "num_players =random.randint(min_players, max_players)\n",
    "\n",
    "for i in range(num_players):\n",
    "    player = {'id': i, 'player_funds':player_funds, 'users': []}\n",
    "    players.append(player)\n",
    "print(num_players)\n",
    "#print(players)\n",
    "print(player)\n",
    "print(users)"
   ]
  },
  {
   "cell_type": "code",
   "execution_count": 38,
   "metadata": {},
   "outputs": [
    {
     "name": "stdout",
     "output_type": "stream",
     "text": [
      "524\n"
     ]
    }
   ],
   "source": [
    "\n",
    "# Create the users and add them to the appropriate lists\n",
    "num_users=random.randint(1,20*num_players)\n",
    "#usersL = list(users)\n",
    "for i in range(num_users):\n",
    "    user = {'id': i, 'player_id': random.randint(0, num_players-1),'identities' : [],'grant': [], 'sybil_coefficient':0}\n",
    "    #print(user)\n",
    "    users.append(user)\n",
    "    #usersL.append(user)\n",
    "    #users = users + user\n",
    "    player = [p for p in players if p['id'] == user['player_id']][0]\n",
    "    player['users'].append(user)\n",
    "    #player['usersL'].append(user)\n",
    "    #player['users'] = player['users'] + users\n",
    "    \n",
    "\n",
    "\n",
    "#print(users)\n",
    "print(len(users))\n",
    "#print(players)"
   ]
  },
  {
   "cell_type": "code",
   "execution_count": 39,
   "metadata": {},
   "outputs": [
    {
     "name": "stdout",
     "output_type": "stream",
     "text": [
      "[14, 16, 11, 9, 11, 15, 16, 20, 13, 9, 21, 11, 9, 11, 11, 10, 23, 18, 13, 8, 12, 8, 17, 6, 13, 14, 15, 7, 10, 16, 18, 20, 12, 12, 10, 16, 15, 18, 16]\n"
     ]
    }
   ],
   "source": [
    "noofusers = []\n",
    "\n",
    "for p in players:\n",
    "    noofusers.append(len(p['users']))\n",
    "\n",
    "print(noofusers)\n"
   ]
  },
  {
   "cell_type": "code",
   "execution_count": 40,
   "metadata": {},
   "outputs": [],
   "source": [
    "# Create the identities and add them to the appropriate lists\n",
    "\n",
    "for p in players:\n",
    "    for u in p['users']:\n",
    "        num_identities = random.randint(1, 50)\n",
    "        u['identities']=[]\n",
    "        #u['identities'] = len(identities)\n",
    "        #identities.extend([{'user_id': u['id'], 'cost': random.randint(0, 1000), 'trust_score': random.randint(0, 100)} for _ in range(num_identities)])\n",
    "        #identities.extend([random.randint(1, 1000) for _ in range(num_identities)])\n",
    "        temp = random.randint(0, 1000)\n",
    "        identity = {'id': u, 'user_id': random.randint(0, num_users-1),'cost': temp, 'trust_score': temp/100}\n",
    "        #print(user)\n",
    "        identities.append(identity)\n",
    "        #usersL.append(user)\n",
    "        #users = users + user\n",
    "        #player = [p for p in players if u['id'] == user['user_id']][0]\n",
    "        #player['users'].append(user)\n",
    "        for i in identities:\n",
    "            if i['user_id'] == u['id']:\n",
    "                u['identities'].append(i)\n",
    "\n",
    "    "
   ]
  },
  {
   "cell_type": "code",
   "execution_count": 41,
   "metadata": {},
   "outputs": [],
   "source": [
    "# # Generate a list of 20 grants with random donations from random users\n",
    "# grants = [{'donations': [{'user_id': random.randint(1, num_users), 'amount': random.uniform(0, 1000)} for _ in range(random.randint(1, num_users))], 'allocated_funds': 0, 'matching_funds': 0, 'total_unique_donors': 0} for _ in range(20)]\n",
    "grants = []\n",
    "for i in range(20):\n",
    "    grant = {'id': i, 'donations': [{'user_id': random.randint(1, num_users), 'amount': random.uniform(0, 1000)} for _ in range(random.randint(1, num_identities))], 'allocated_funds': 0, 'matching_funds': 0, 'total_unique_donors': 0}\n",
    "    grants.append(grant)\n"
   ]
  },
  {
   "cell_type": "code",
   "execution_count": 42,
   "metadata": {},
   "outputs": [],
   "source": [
    "# Iterate through the grants list\n",
    "for grant in grants:\n",
    "    # Get the user_id of the grant's donations\n",
    "    user_id = grant['donations'][0]['user_id']\n",
    "    # Iterate through the players list\n",
    "    for player in players:\n",
    "        # Iterate through the player's users\n",
    "        for user in player['users']:\n",
    "            # If the user's id matches the grant's user_id, assign the grant to the user\n",
    "            if user['id'] == user_id:\n",
    "                user['grant'] = grant\n"
   ]
  },
  {
   "cell_type": "code",
   "execution_count": 43,
   "metadata": {},
   "outputs": [],
   "source": [
    "\n",
    "def update(params, step, sL, s, users, grant):\n",
    "    # Unpack system variables\n",
    "    players = s['players']\n",
    "    identities = s['identities']\n",
    "    grants = s['grants']\n",
    "    player_funds = s['player_funds']\n",
    "    grant_pool = s['grant_pool']\n",
    "    allocated_funds = s['allocated_funds']\n",
    "    matching_funds = s['matching_funds']\n",
    "    \n"
   ]
  },
  {
   "cell_type": "code",
   "execution_count": 44,
   "metadata": {},
   "outputs": [],
   "source": [
    "# Calculate sybil coefficient for each user\n",
    "for user in users:\n",
    "    user_identities = [i for i in identities if i['user_id'] == user['id']]\n",
    "    user['sybil_coefficient'] = 0\n",
    "    user['sybil_coefficient'] = sum(i['trust_score'] for i in user_identities)"
   ]
  },
  {
   "cell_type": "code",
   "execution_count": 45,
   "metadata": {},
   "outputs": [],
   "source": [
    "# Check if user should be squelched\n",
    "player = [p for p in players if p['id'] == user['player_id']][0]\n",
    "if len(user_identities) < 10 or user['sybil_coefficient'] < 20:\n",
    "    user['sybil_coefficient'] = 0\n",
    "    if len(player['users']) > 1:\n",
    "        probability_of_squelch = 0.8\n",
    "    else:\n",
    "        probability_of_squelch = 0.2\n",
    "    if np.random.rand() < probability_of_squelch:\n",
    "        user['sybil_coefficient'] = 0"
   ]
  },
  {
   "cell_type": "code",
   "execution_count": 46,
   "metadata": {},
   "outputs": [],
   "source": [
    "# # Calculate sybil coefficient for each user\n",
    "\n",
    "# for user in users:\n",
    "#     user_identities = [i for i in identities if i['user_id'] == user['id']]\n",
    "#     user['sybil_coefficient'] = sum(i['trust_score'] for i in user_identities)\n",
    "    \n",
    "#     # Check if user should be squelched\n",
    "#     player = [p for p in players if p['id'] == user['player_id']][0]\n",
    "#     if len(user_identities) < 10 or user['sybil_coefficient'] < 20:\n",
    "#         user['sybil_coefficient'] = 0\n",
    "#         if len(player['users']) > 1:\n",
    "#             probability_of_squelch = 0.8\n",
    "#         else:\n",
    "#             probability_of_squelch = 0.2\n",
    "#         if np.random.rand() < probability_of_squelch:\n",
    "#             user['sybil_coefficient'] = 0"
   ]
  },
  {
   "cell_type": "code",
   "execution_count": 47,
   "metadata": {},
   "outputs": [],
   "source": [
    "# Accept donations to grants\n",
    "for player in players:\n",
    "    for user in player['users']:\n",
    "        #grant = user['grant']\n",
    "        if user['sybil_coefficient'] > 0 and user['grant'] is not None:\n",
    "            donation_amount = np.random.randint(0, player_funds+1)\n",
    "            player_funds -= donation_amount\n",
    "        # grant['allocated_funds'] += donation_amount * np.sqrt(user['sybil_coefficient'])\n",
    "        # grant['total_unique_donors'] += 1\n"
   ]
  },
  {
   "cell_type": "code",
   "execution_count": 48,
   "metadata": {},
   "outputs": [
    {
     "name": "stdout",
     "output_type": "stream",
     "text": [
      "{'id': 19, 'donations': [{'user_id': 35, 'amount': 820.6944453080729}, {'user_id': 455, 'amount': 146.638518732081}, {'user_id': 302, 'amount': 131.127881435954}, {'user_id': 507, 'amount': 117.96350361149987}, {'user_id': 131, 'amount': 436.26064681981967}, {'user_id': 347, 'amount': 128.46167941666576}, {'user_id': 421, 'amount': 885.4289015319682}, {'user_id': 365, 'amount': 738.529250685971}, {'user_id': 113, 'amount': 758.0042651428793}, {'user_id': 464, 'amount': 91.0268207260273}, {'user_id': 70, 'amount': 279.5521402000778}, {'user_id': 193, 'amount': 21.79070993912424}, {'user_id': 482, 'amount': 140.61414043379804}], 'allocated_funds': 0, 'matching_funds': 0, 'total_unique_donors': 0}\n"
     ]
    }
   ],
   "source": [
    "print(grant)"
   ]
  },
  {
   "cell_type": "code",
   "execution_count": 49,
   "metadata": {},
   "outputs": [
    {
     "name": "stdout",
     "output_type": "stream",
     "text": [
      "{'id': 19, 'donations': [{'user_id': 35, 'amount': 820.6944453080729}, {'user_id': 455, 'amount': 146.638518732081}, {'user_id': 302, 'amount': 131.127881435954}, {'user_id': 507, 'amount': 117.96350361149987}, {'user_id': 131, 'amount': 436.26064681981967}, {'user_id': 347, 'amount': 128.46167941666576}, {'user_id': 421, 'amount': 885.4289015319682}, {'user_id': 365, 'amount': 738.529250685971}, {'user_id': 113, 'amount': 758.0042651428793}, {'user_id': 464, 'amount': 91.0268207260273}, {'user_id': 70, 'amount': 279.5521402000778}, {'user_id': 193, 'amount': 21.79070993912424}, {'user_id': 482, 'amount': 140.61414043379804}], 'allocated_funds': 0, 'matching_funds': 0, 'total_unique_donors': 13, 'total_donated': 4696.0929039839375}\n"
     ]
    }
   ],
   "source": [
    "for grant in grants:\n",
    "    total_donated = 0\n",
    "    for donation in grant['donations']:\n",
    "        total_donated += donation['amount']\n",
    "        grant['total_unique_donors'] += 1\n",
    "    grant['total_donated'] = total_donated\n",
    "    \n",
    "\n",
    "print(grant)\n"
   ]
  },
  {
   "cell_type": "code",
   "execution_count": 50,
   "metadata": {},
   "outputs": [
    {
     "name": "stdout",
     "output_type": "stream",
     "text": [
      "{'id': 19, 'donations': [{'user_id': 35, 'amount': 820.6944453080729}, {'user_id': 455, 'amount': 146.638518732081}, {'user_id': 302, 'amount': 131.127881435954}, {'user_id': 507, 'amount': 117.96350361149987}, {'user_id': 131, 'amount': 436.26064681981967}, {'user_id': 347, 'amount': 128.46167941666576}, {'user_id': 421, 'amount': 885.4289015319682}, {'user_id': 365, 'amount': 738.529250685971}, {'user_id': 113, 'amount': 758.0042651428793}, {'user_id': 464, 'amount': 91.0268207260273}, {'user_id': 70, 'amount': 279.5521402000778}, {'user_id': 193, 'amount': 21.79070993912424}, {'user_id': 482, 'amount': 140.61414043379804}], 'allocated_funds': 702866.5656132875, 'matching_funds': 0, 'total_unique_donors': 13, 'total_donated': 4696.0929039839375}\n"
     ]
    }
   ],
   "source": [
    "# Find the grant with the matching id\n",
    "for grant in grants:\n",
    "        for donation in grant['donations']:\n",
    "                temp += donation['amount']* np.sqrt(user['sybil_coefficient'])\n",
    "        grant['allocated_funds'] += temp\n",
    "\n",
    "print(grant)"
   ]
  },
  {
   "cell_type": "code",
   "execution_count": 51,
   "metadata": {},
   "outputs": [],
   "source": [
    "# Calculate matching funds for each grant\n",
    "for grant in grants:\n",
    "    grant['matching_funds'] = grant_pool * (grant['allocated_funds'] / sum(g['allocated_funds'] for g in grants))\n"
   ]
  },
  {
   "cell_type": "code",
   "execution_count": 52,
   "metadata": {},
   "outputs": [],
   "source": [
    "for player in players:\n",
    "    for user in player['users']:\n",
    "        if user['grant'] is not None:\n",
    "            player_funds += grant['matching_funds']*0.5\n",
    "            #user[grant]=None\n",
    "# for donor_player in players:\n",
    "#     for donor_user in donor_player['users']:\n",
    "#         if donor_user['grant'] == grant[id]:\n",
    "#             player_funds += grant['matching_funds']*0.5\n",
    "# grant_pool -= grant['matching_funds']"
   ]
  },
  {
   "cell_type": "code",
   "execution_count": 53,
   "metadata": {},
   "outputs": [],
   "source": [
    "# player_funds = {player['id']: player_funds for player in players}\n",
    "# #Distribute rewards to players\n",
    "# for player in players:\n",
    "#     for user in player['users']:\n",
    "#         if user['grant'] is not None:\n",
    "#             grant = user['grant']\n",
    "#     player_funds += grant['matching_funds'] * 0.5\n",
    "# user['grant'] = None\n",
    "# # Distribute remaining matching funds to donors\n",
    "# for donor_player in players:\n",
    "#     for donor_user in donor_player['users']:\n",
    "#         if donor_user['grant'] == grant['id']:\n",
    "#             donor_player['funds'] += grant['matching_funds'] * 0.5 * donor_user['sybil_coefficient'] / grant['allocated_funds']\n",
    "# grant_pool -= grant['matching_funds']\n",
    "\n"
   ]
  },
  {
   "cell_type": "code",
   "execution_count": 54,
   "metadata": {},
   "outputs": [
    {
     "name": "stdout",
     "output_type": "stream",
     "text": [
      "\n",
      "Grants:\n",
      "Grant 0: Matching funds = 811.3229728483193, Total unique donors = 44\n",
      "Grant 1: Matching funds = 1468.0747939193916, Total unique donors = 29\n",
      "Grant 2: Matching funds = 1791.628818694568, Total unique donors = 14\n",
      "Grant 3: Matching funds = 1821.083848559235, Total unique donors = 1\n",
      "Grant 4: Matching funds = 2055.7586326174783, Total unique donors = 15\n",
      "Grant 5: Matching funds = 2067.981797735578, Total unique donors = 1\n",
      "Grant 6: Matching funds = 3060.536023500149, Total unique donors = 43\n",
      "Grant 7: Matching funds = 3457.003242540959, Total unique donors = 17\n",
      "Grant 8: Matching funds = 4215.829414197914, Total unique donors = 37\n",
      "Grant 9: Matching funds = 4261.530381594674, Total unique donors = 4\n",
      "Grant 10: Matching funds = 4749.907769500946, Total unique donors = 21\n",
      "Grant 11: Matching funds = 5073.320351619235, Total unique donors = 11\n",
      "Grant 12: Matching funds = 5969.087669614081, Total unique donors = 41\n",
      "Grant 13: Matching funds = 6902.088614933021, Total unique donors = 43\n",
      "Grant 14: Matching funds = 7534.784438370527, Total unique donors = 37\n",
      "Grant 15: Matching funds = 7801.969495431927, Total unique donors = 12\n",
      "Grant 16: Matching funds = 8256.297294575208, Total unique donors = 19\n",
      "Grant 17: Matching funds = 8966.560022939027, Total unique donors = 37\n",
      "Grant 18: Matching funds = 9768.736706244432, Total unique donors = 41\n",
      "Grant 19: Matching funds = 9966.497710563313, Total unique donors = 13\n"
     ]
    }
   ],
   "source": [
    "#Print final results\n",
    "print()\n",
    "print(\"Grants:\")\n",
    "for grant in grants:\n",
    "    print(f\"Grant {grant['id']}: Matching funds = {grant['matching_funds']}, Total unique donors = {grant['total_unique_donors']}\")\n",
    "# print(\"\\nPlayers:\")\n",
    "# for player in players:\n",
    "#     print(f\"Player {player['id']}: Funds = {player_funds[player['id']]}, Sybil coefficient = {player['sybil_coefficient']}\")\n",
    "    \n"
   ]
  }
 ],
 "metadata": {
  "kernelspec": {
   "display_name": "Python 3",
   "language": "python",
   "name": "python3"
  },
  "language_info": {
   "codemirror_mode": {
    "name": "ipython",
    "version": 3
   },
   "file_extension": ".py",
   "mimetype": "text/x-python",
   "name": "python",
   "nbconvert_exporter": "python",
   "pygments_lexer": "ipython3",
   "version": "3.9.7"
  },
  "orig_nbformat": 4,
  "vscode": {
   "interpreter": {
    "hash": "81794d4967e6c3204c66dcd87b604927b115b27c00565d3d43f05ba2f3a2cb0d"
   }
  }
 },
 "nbformat": 4,
 "nbformat_minor": 2
}
